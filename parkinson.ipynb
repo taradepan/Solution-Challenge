{
 "cells": [
  {
   "cell_type": "code",
   "execution_count": 4,
   "metadata": {},
   "outputs": [
    {
     "name": "stdout",
     "output_type": "stream",
     "text": [
      "Accuracy of training data: 0.8846153846153846\n",
      "Accuracy of testing data: 0.8717948717948718\n",
      "Prediction: [0]\n",
      "Negative, No Parkinson's\n"
     ]
    },
    {
     "name": "stderr",
     "output_type": "stream",
     "text": [
      "d:\\Anaconda\\Lib\\site-packages\\sklearn\\base.py:439: UserWarning: X does not have valid feature names, but StandardScaler was fitted with feature names\n",
      "  warnings.warn(\n"
     ]
    }
   ],
   "source": [
    "import numpy as np\n",
    "import pandas as pd\n",
    "from sklearn import svm\n",
    "from sklearn.metrics import accuracy_score\n",
    "from sklearn.preprocessing import StandardScaler\n",
    "from sklearn.model_selection import train_test_split\n",
    "\n",
    "# Read the dataset\n",
    "df = pd.read_csv(\"./parkinsons.data\")\n",
    "\n",
    "# Separate features and target\n",
    "X = df.drop(columns=['name', 'status'], axis=1)\n",
    "Y = df['status']\n",
    "\n",
    "# Split the dataset into training and testing sets\n",
    "X_train, X_test, Y_train, Y_test = train_test_split(X, Y, test_size=0.2, random_state=2)\n",
    "\n",
    "# Scale the features\n",
    "ss = StandardScaler()\n",
    "ss.fit(X_train)\n",
    "X_train = ss.transform(X_train)\n",
    "X_test = ss.transform(X_test)\n",
    "\n",
    "# Train the SVM model\n",
    "model = svm.SVC(kernel='linear')\n",
    "model.fit(X_train, Y_train)\n",
    "\n",
    "# Evaluate the model\n",
    "Y_train_pred = model.predict(X_train)\n",
    "train_data_acc = accuracy_score(Y_train, Y_train_pred)\n",
    "print(\"Accuracy of training data:\", train_data_acc)\n",
    "\n",
    "Y_test_pred = model.predict(X_test)\n",
    "test_data_acc = accuracy_score(Y_test, Y_test_pred)\n",
    "print('Accuracy of testing data:', test_data_acc)\n",
    "\n",
    "# Provide input data for prediction\n",
    "input_data = (120.25600, 125.30600, 104.77300, 0.00407, 0.00003, 0.00224, 0.00205, 0.00671, 0.01516,\n",
    "              0.13800, 0.00721, 0.00815, 0.01310, 0.02164, 0.01015, 26.01700, 1, 0.468621, 0.735136,\n",
    "              -6.112667, 0.217013, 2.527742)  # Remove the last feature\n",
    "input_data_np = np.asarray(input_data)\n",
    "input_data_re = input_data_np.reshape(1, -1)\n",
    "\n",
    "# Scale the input data using the trained scaler\n",
    "s_data = ss.transform(input_data_re)\n",
    "\n",
    "# Make predictions\n",
    "pred = model.predict(s_data)\n",
    "print(\"Prediction:\", pred)\n",
    "\n",
    "# Output result\n",
    "if pred[0] == 0:\n",
    "    print(\"Negative, No Parkinson's\")\n",
    "else:\n",
    "    print(\"Positive, Parkinson's\")\n"
   ]
  },
  {
   "cell_type": "code",
   "execution_count": 5,
   "metadata": {},
   "outputs": [],
   "source": [
    "import pickle\n",
    "pickle.dump(model,open('model.pkl', 'wb'))"
   ]
  },
  {
   "cell_type": "code",
   "execution_count": null,
   "metadata": {},
   "outputs": [],
   "source": []
  }
 ],
 "metadata": {
  "kernelspec": {
   "display_name": "base",
   "language": "python",
   "name": "python3"
  },
  "language_info": {
   "codemirror_mode": {
    "name": "ipython",
    "version": 3
   },
   "file_extension": ".py",
   "mimetype": "text/x-python",
   "name": "python",
   "nbconvert_exporter": "python",
   "pygments_lexer": "ipython3",
   "version": "3.11.3"
  }
 },
 "nbformat": 4,
 "nbformat_minor": 2
}
